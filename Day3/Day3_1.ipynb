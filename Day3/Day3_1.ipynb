{
 "cells": [
  {
   "cell_type": "code",
   "execution_count": 15,
   "metadata": {
    "scrolled": true
   },
   "outputs": [
    {
     "name": "stdout",
     "output_type": "stream",
     "text": [
      "['#1 @ 1,3: 4x4\\n', '#2 @ 3,1: 4x4\\n', '#3 @ 5,5: 2x2 \\n']\n",
      "[['#1', '@', '1,3:', '4x4'], ['#2', '@', '3,1:', '4x4'], ['#3', '@', '5,5:', '2x2']]\n",
      "[([1, 3], [4, 4]), ([3, 1], [4, 4]), ([5, 5], [2, 2])]\n",
      "4\n",
      "range(5, 7)\n",
      "[[0. 0. 0. 0. 0. 0. 0. 0. 0. 0. 0. 0. 0. 0. 0. 0. 0. 0. 0. 0.]\n",
      " [0. 0. 0. 1. 1. 1. 1. 0. 0. 0. 0. 0. 0. 0. 0. 0. 0. 0. 0. 0.]\n",
      " [0. 0. 0. 1. 1. 1. 1. 0. 0. 0. 0. 0. 0. 0. 0. 0. 0. 0. 0. 0.]\n",
      " [0. 1. 1. 2. 2. 1. 1. 0. 0. 0. 0. 0. 0. 0. 0. 0. 0. 0. 0. 0.]\n",
      " [0. 1. 1. 2. 2. 1. 1. 0. 0. 0. 0. 0. 0. 0. 0. 0. 0. 0. 0. 0.]\n",
      " [0. 1. 1. 1. 1. 1. 1. 0. 0. 0. 0. 0. 0. 0. 0. 0. 0. 0. 0. 0.]\n",
      " [0. 1. 1. 1. 1. 1. 1. 0. 0. 0. 0. 0. 0. 0. 0. 0. 0. 0. 0. 0.]\n",
      " [0. 0. 0. 0. 0. 0. 0. 0. 0. 0. 0. 0. 0. 0. 0. 0. 0. 0. 0. 0.]\n",
      " [0. 0. 0. 0. 0. 0. 0. 0. 0. 0. 0. 0. 0. 0. 0. 0. 0. 0. 0. 0.]\n",
      " [0. 0. 0. 0. 0. 0. 0. 0. 0. 0. 0. 0. 0. 0. 0. 0. 0. 0. 0. 0.]\n",
      " [0. 0. 0. 0. 0. 0. 0. 0. 0. 0. 0. 0. 0. 0. 0. 0. 0. 0. 0. 0.]\n",
      " [0. 0. 0. 0. 0. 0. 0. 0. 0. 0. 0. 0. 0. 0. 0. 0. 0. 0. 0. 0.]\n",
      " [0. 0. 0. 0. 0. 0. 0. 0. 0. 0. 0. 0. 0. 0. 0. 0. 0. 0. 0. 0.]\n",
      " [0. 0. 0. 0. 0. 0. 0. 0. 0. 0. 0. 0. 0. 0. 0. 0. 0. 0. 0. 0.]\n",
      " [0. 0. 0. 0. 0. 0. 0. 0. 0. 0. 0. 0. 0. 0. 0. 0. 0. 0. 0. 0.]\n",
      " [0. 0. 0. 0. 0. 0. 0. 0. 0. 0. 0. 0. 0. 0. 0. 0. 0. 0. 0. 0.]\n",
      " [0. 0. 0. 0. 0. 0. 0. 0. 0. 0. 0. 0. 0. 0. 0. 0. 0. 0. 0. 0.]\n",
      " [0. 0. 0. 0. 0. 0. 0. 0. 0. 0. 0. 0. 0. 0. 0. 0. 0. 0. 0. 0.]\n",
      " [0. 0. 0. 0. 0. 0. 0. 0. 0. 0. 0. 0. 0. 0. 0. 0. 0. 0. 0. 0.]\n",
      " [0. 0. 0. 0. 0. 0. 0. 0. 0. 0. 0. 0. 0. 0. 0. 0. 0. 0. 0. 0.]]\n"
     ]
    }
   ],
   "source": [
    "import numpy as np\n",
    "\n",
    "with open('test', 'r') as test:\n",
    "    test = test.readlines()\n",
    "print(test)\n",
    "\n",
    "split = []\n",
    "coord_size = []\n",
    "for i in test:\n",
    "    split_i = i.split()\n",
    "    start_coord = split_i[2]\n",
    "    size = split_i[3]\n",
    "    start_coord_ = start_coord[:-1]\n",
    "    start_coord_split = list(map(int, start_coord_.split(',')))\n",
    "    size_split = list(map(int, size.split('x')))\n",
    "    combined = (start_coord_split, size_split)\n",
    "    split.append(split_i)\n",
    "    coord_size.append(combined)\n",
    "    \n",
    "print(split)\n",
    "print(coord_size)\n",
    "\n",
    "matrix = np.zeros((20, 20))\n",
    "\n",
    "for i in coord_size:\n",
    "    coord = i[0]\n",
    "    size  = i[1]\n",
    "    x, y = coord\n",
    "    width, height = size\n",
    "    for coord_y in range(y, height+y):\n",
    "        for coord_x in range(x, width+x):\n",
    "            matrix[coord_y, coord_x] +=1\n",
    "\n",
    "overlap = np.count_nonzero(matrix >1)\n",
    "\n",
    "print(overlap)\n",
    "\n",
    "print(matrix)\n",
    "\n",
    "\n"
   ]
  },
  {
   "cell_type": "code",
   "execution_count": 17,
   "metadata": {},
   "outputs": [
    {
     "name": "stdout",
     "output_type": "stream",
     "text": [
      "103806\n",
      "[[0. 0. 0. ... 0. 0. 0.]\n",
      " [0. 0. 0. ... 0. 0. 0.]\n",
      " [0. 0. 0. ... 0. 0. 0.]\n",
      " ...\n",
      " [0. 0. 0. ... 0. 0. 0.]\n",
      " [0. 0. 0. ... 0. 0. 0.]\n",
      " [0. 0. 0. ... 0. 0. 0.]]\n"
     ]
    }
   ],
   "source": [
    "import numpy as np\n",
    "\n",
    "with open('input', 'r') as test:\n",
    "    test = test.readlines()\n",
    "#print(test)\n",
    "\n",
    "split = []\n",
    "coord_size = []\n",
    "for i in test:\n",
    "    split_i = i.split()\n",
    "    start_coord = split_i[2]\n",
    "    size = split_i[3]\n",
    "    start_coord_ = start_coord[:-1]\n",
    "    start_coord_split = list(map(int, start_coord_.split(',')))\n",
    "    size_split = list(map(int, size.split('x')))\n",
    "    combined = (start_coord_split, size_split)\n",
    "    split.append(split_i)\n",
    "    coord_size.append(combined)\n",
    "    \n",
    "#print(split)\n",
    "#print(coord_size)\n",
    "\n",
    "matrix = np.zeros((2000, 2000))\n",
    "\n",
    "for i in coord_size:\n",
    "    coord = i[0]\n",
    "    size  = i[1]\n",
    "    x, y = coord\n",
    "    width, height = size\n",
    "    for coord_y in range(y, height+y):\n",
    "        for coord_x in range(x, width+x):\n",
    "            matrix[coord_y, coord_x] +=1\n",
    "\n",
    "overlap = np.count_nonzero(matrix >1)\n",
    "\n",
    "print(overlap)\n",
    "\n",
    "print(matrix)\n",
    "\n",
    "\n"
   ]
  },
  {
   "cell_type": "code",
   "execution_count": null,
   "metadata": {},
   "outputs": [],
   "source": []
  }
 ],
 "metadata": {
  "kernelspec": {
   "display_name": "Python 3",
   "language": "python",
   "name": "python3"
  },
  "language_info": {
   "codemirror_mode": {
    "name": "ipython",
    "version": 3
   },
   "file_extension": ".py",
   "mimetype": "text/x-python",
   "name": "python",
   "nbconvert_exporter": "python",
   "pygments_lexer": "ipython3",
   "version": "3.6.7"
  }
 },
 "nbformat": 4,
 "nbformat_minor": 2
}
