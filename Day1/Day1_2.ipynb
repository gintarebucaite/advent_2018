{
 "cells": [
  {
   "cell_type": "code",
   "execution_count": 23,
   "metadata": {},
   "outputs": [
    {
     "name": "stdout",
     "output_type": "stream",
     "text": [
      "341\n"
     ]
    }
   ],
   "source": [
    "with open('input', 'r') as day_1:\n",
    "    d1 = day_1.read()\n",
    "d1_list = d1.split()\n",
    "d1_int_list = []\n",
    "\n",
    "for i in d1_list:\n",
    "    x = int(i)\n",
    "    d1_int_list.append(x)\n",
    "\n",
    "\n",
    "d1_sum = []\n",
    "frequency_sum = 0\n",
    "\n",
    "list_index = 0\n",
    "while True:\n",
    "    frequency_sum = frequency_sum + d1_int_list[list_index]\n",
    "    if frequency_sum not in d1_sum:\n",
    "        d1_sum.append(frequency_sum)\n",
    "    else:\n",
    "        break\n",
    "    list_index = list_index + 1\n",
    "    if list_index > len(d1_int_list) - 1:\n",
    "        list_index = 0\n",
    "print(frequency_sum)\n",
    "    \n",
    "\n"
   ]
  },
  {
   "cell_type": "code",
   "execution_count": 25,
   "metadata": {},
   "outputs": [
    {
     "name": "stdout",
     "output_type": "stream",
     "text": [
      "341\n"
     ]
    }
   ],
   "source": [
    "with open('input', 'r') as day_1:\n",
    "    d1 = day_1.read()\n",
    "d1_list = d1.split()\n",
    "d1_int_list = []\n",
    "\n",
    "for i in d1_list:\n",
    "    x = int(i)\n",
    "    d1_int_list.append(x)\n",
    "    \n",
    "\n",
    "d1_sum = set()\n",
    "frequency_sum = 0\n",
    "\n",
    "list_index = 0\n",
    "while True:\n",
    "    frequency_sum = frequency_sum + d1_int_list[list_index]\n",
    "    if frequency_sum not in d1_sum:\n",
    "        d1_sum.add(frequency_sum)\n",
    "    else:\n",
    "        break\n",
    "    list_index = list_index + 1\n",
    "    if list_index > len(d1_int_list) - 1:\n",
    "        list_index = 0\n",
    "print(frequency_sum)\n",
    "    \n",
    "\n"
   ]
  },
  {
   "cell_type": "code",
   "execution_count": null,
   "metadata": {},
   "outputs": [],
   "source": []
  },
  {
   "cell_type": "code",
   "execution_count": null,
   "metadata": {},
   "outputs": [],
   "source": []
  }
 ],
 "metadata": {
  "kernelspec": {
   "display_name": "Python 3",
   "language": "python",
   "name": "python3"
  },
  "language_info": {
   "codemirror_mode": {
    "name": "ipython",
    "version": 3
   },
   "file_extension": ".py",
   "mimetype": "text/x-python",
   "name": "python",
   "nbconvert_exporter": "python",
   "pygments_lexer": "ipython3",
   "version": "3.6.7"
  }
 },
 "nbformat": 4,
 "nbformat_minor": 2
}
