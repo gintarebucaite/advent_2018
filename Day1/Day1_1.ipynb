{
 "cells": [
  {
   "cell_type": "code",
   "execution_count": 18,
   "metadata": {},
   "outputs": [
    {
     "name": "stdout",
     "output_type": "stream",
     "text": [
      "    0\n",
      "0  13\n",
      "1  -3\n",
      "2  -8\n",
      "3  14\n",
      "4  16\n",
      "          0\n",
      "968     -10\n",
      "969       8\n",
      "970      31\n",
      "971      12\n",
      "972  117267\n",
      "0    427\n",
      "dtype: int64\n"
     ]
    }
   ],
   "source": [
    "import pandas as pd\n",
    "day1 = pd.read_csv('input', header=None)\n",
    "print(day1.head())\n",
    "print(day1.tail())\n",
    "\n",
    "day1_sum = day1.sum()\n",
    "print(day1_sum)"
   ]
  },
  {
   "cell_type": "code",
   "execution_count": null,
   "metadata": {},
   "outputs": [],
   "source": []
  }
 ],
 "metadata": {
  "kernelspec": {
   "display_name": "Python 3",
   "language": "python",
   "name": "python3"
  },
  "language_info": {
   "codemirror_mode": {
    "name": "ipython",
    "version": 3
   },
   "file_extension": ".py",
   "mimetype": "text/x-python",
   "name": "python",
   "nbconvert_exporter": "python",
   "pygments_lexer": "ipython3",
   "version": "3.6.7"
  }
 },
 "nbformat": 4,
 "nbformat_minor": 2
}
