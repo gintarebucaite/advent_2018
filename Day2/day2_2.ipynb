{
 "cells": [
  {
   "cell_type": "code",
   "execution_count": 30,
   "metadata": {},
   "outputs": [
    {
     "name": "stdout",
     "output_type": "stream",
     "text": [
      "umdryabviapkozistwcnihjqx\n",
      "\n"
     ]
    }
   ],
   "source": [
    "with open('input', 'r') as day_2:\n",
    "    d2 = day_2.readlines()\n",
    "\n",
    "def compare(x, y):\n",
    "    times_not_equal = 0\n",
    "    for l_x, l_y in zip(x, y):\n",
    "        if l_x != l_y:\n",
    "            times_not_equal += 1\n",
    "        if times_not_equal > 1:\n",
    "            break\n",
    "    if times_not_equal == 1:\n",
    "        return True\n",
    "    else:\n",
    "        return False\n",
    "    \n",
    "    \n",
    "def letters_in_common(x, y):\n",
    "    l1 = []\n",
    "    for l_x, l_y in zip(x, y):\n",
    "        if l_x == l_y:\n",
    "            l1.append(l_x)\n",
    "    return l1\n",
    "    \n",
    " \n",
    "for index, value in enumerate(d2):\n",
    "    for value_2 in d2[index+1:]:\n",
    "        result = compare(value, value_2)\n",
    "        if result == True:\n",
    "            print(\"\".join(letters_in_common(value, value_2)))\n",
    "\n",
    "    \n"
   ]
  },
  {
   "cell_type": "code",
   "execution_count": null,
   "metadata": {},
   "outputs": [],
   "source": []
  }
 ],
 "metadata": {
  "kernelspec": {
   "display_name": "Python 3",
   "language": "python",
   "name": "python3"
  },
  "language_info": {
   "codemirror_mode": {
    "name": "ipython",
    "version": 3
   },
   "file_extension": ".py",
   "mimetype": "text/x-python",
   "name": "python",
   "nbconvert_exporter": "python",
   "pygments_lexer": "ipython3",
   "version": "3.6.7"
  }
 },
 "nbformat": 4,
 "nbformat_minor": 2
}
